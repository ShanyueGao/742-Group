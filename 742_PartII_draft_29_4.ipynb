{
  "nbformat": 4,
  "nbformat_minor": 0,
  "metadata": {
    "colab": {
      "name": "742_PartII_draft 24.4.ipynb",
      "provenance": [],
      "collapsed_sections": []
    },
    "kernelspec": {
      "name": "python3",
      "display_name": "Python 3"
    },
    "language_info": {
      "name": "python"
    }
  },
  "cells": [
    {
      "cell_type": "markdown",
      "metadata": {
        "id": "kr4A5EWtIPIt"
      },
      "source": [
        ""
      ]
    },
    {
      "cell_type": "code",
      "metadata": {
        "id": "f5IgA3g_Aaks"
      },
      "source": [
        "import urllib.request\n",
        "from bs4 import BeautifulSoup\n",
        "import pandas as pd\n",
        "from urllib.parse import quote\n",
        "from matplotlib import pyplot\n",
        "from sklearn.metrics import mean_squared_error\n",
        "from math import sqrt\n",
        "import numpy as np\n",
        "import warnings"
      ],
      "execution_count": 19,
      "outputs": []
    },
    {
      "cell_type": "code",
      "metadata": {
        "colab": {
          "base_uri": "https://localhost:8080/"
        },
        "id": "8ktCfIPNA_UI",
        "outputId": "0cfcdccf-eef4-48e6-95d9-ccca246487a1"
      },
      "source": [
        "#5 Crawl\n",
        "\n",
        "Cited = []\n",
        "Year = []\n",
        " \n",
        "url = \"https://scholar.google.com.au/citations?hl=en&user=dqwjm-0AAAAJ\" \n",
        " \n",
        "page = urllib.request.urlopen(url)\n",
        "soup = BeautifulSoup(page, 'html.parser')\n",
        "soup1= soup.findAll(\"div\",{\"class\":\"gsc_md_hist_b\"})\n",
        "for year in soup1:\n",
        "  years = year.findAll(\"span\",{\"class\":\"gsc_g_t\"})\n",
        "  for year in years:\n",
        "    year=year.text\n",
        "    Year.append(year)\n",
        "for number in soup1:\n",
        "  numbers= number.findAll(\"a\")\n",
        "  for number in numbers:\n",
        "    cited = number.text\n",
        "    Cited.append(cited)\n",
        "\n",
        "dict ={\"year\":Year,\"Citation\":Cited}   \n",
        "\n",
        "GangLi = pd.DataFrame(dict)\n",
        "\n",
        "GangLi.to_csv('Citation2003-2021.csv', index = False, header = True)\n",
        "\n",
        "print(GangLi)"
      ],
      "execution_count": 2,
      "outputs": [
        {
          "output_type": "stream",
          "text": [
            "    year Citation\n",
            "0   2003       15\n",
            "1   2004       34\n",
            "2   2005       17\n",
            "3   2006       11\n",
            "4   2007       32\n",
            "5   2008       41\n",
            "6   2009       57\n",
            "7   2010       68\n",
            "8   2011      105\n",
            "9   2012      130\n",
            "10  2013      171\n",
            "11  2014      250\n",
            "12  2015      288\n",
            "13  2016      339\n",
            "14  2017      382\n",
            "15  2018      443\n",
            "16  2019      580\n",
            "17  2020      835\n",
            "18  2021      276\n"
          ],
          "name": "stdout"
        }
      ]
    },
    {
      "cell_type": "code",
      "metadata": {
        "colab": {
          "base_uri": "https://localhost:8080/"
        },
        "id": "sPUOIUDLJanH",
        "outputId": "bff3f7a4-0d3e-4dfb-c26a-80ebb62478e6"
      },
      "source": [
        "!pip install \"statsmodels==0.11.1\"\n",
        "from statsmodels.tsa.arima.model import ARIMA"
      ],
      "execution_count": 3,
      "outputs": [
        {
          "output_type": "stream",
          "text": [
            "Collecting statsmodels==0.11.1\n",
            "\u001b[?25l  Downloading https://files.pythonhosted.org/packages/7b/6a/0bf4184c3fb6f9f43df997b88de5784b4cb2f6bd19a5dc213463971076cf/statsmodels-0.11.1-cp37-cp37m-manylinux1_x86_64.whl (8.7MB)\n",
            "\u001b[K     |████████████████████████████████| 8.7MB 6.5MB/s \n",
            "\u001b[?25hRequirement already satisfied: patsy>=0.5 in /usr/local/lib/python3.7/dist-packages (from statsmodels==0.11.1) (0.5.1)\n",
            "Requirement already satisfied: pandas>=0.21 in /usr/local/lib/python3.7/dist-packages (from statsmodels==0.11.1) (1.1.5)\n",
            "Requirement already satisfied: numpy>=1.14 in /usr/local/lib/python3.7/dist-packages (from statsmodels==0.11.1) (1.19.5)\n",
            "Requirement already satisfied: scipy>=1.0 in /usr/local/lib/python3.7/dist-packages (from statsmodels==0.11.1) (1.4.1)\n",
            "Requirement already satisfied: six in /usr/local/lib/python3.7/dist-packages (from patsy>=0.5->statsmodels==0.11.1) (1.15.0)\n",
            "Requirement already satisfied: pytz>=2017.2 in /usr/local/lib/python3.7/dist-packages (from pandas>=0.21->statsmodels==0.11.1) (2018.9)\n",
            "Requirement already satisfied: python-dateutil>=2.7.3 in /usr/local/lib/python3.7/dist-packages (from pandas>=0.21->statsmodels==0.11.1) (2.8.1)\n",
            "Installing collected packages: statsmodels\n",
            "  Found existing installation: statsmodels 0.10.2\n",
            "    Uninstalling statsmodels-0.10.2:\n",
            "      Successfully uninstalled statsmodels-0.10.2\n",
            "Successfully installed statsmodels-0.11.1\n"
          ],
          "name": "stdout"
        }
      ]
    },
    {
      "cell_type": "code",
      "metadata": {
        "id": "zRD4zwExGGzX",
        "colab": {
          "base_uri": "https://localhost:8080/"
        },
        "outputId": "ef7ecc22-8eaf-4d33-9999-7b4045c384b6"
      },
      "source": [
        "#read the data and make sure the year is in datetime formate\n",
        "from pandas import datetime\n",
        "\n",
        "def parser(x):\n",
        "  return datetime.strptime(x,'%Y')\n",
        "\n",
        "gangli= pd.read_csv('Citation2003-2021.csv',header=0, index_col=0,parse_dates=[0],date_parser=parser)"
      ],
      "execution_count": 4,
      "outputs": [
        {
          "output_type": "stream",
          "text": [
            "/usr/local/lib/python3.7/dist-packages/ipykernel_launcher.py:2: FutureWarning: The pandas.datetime class is deprecated and will be removed from pandas in a future version. Import from datetime module instead.\n",
            "  \n"
          ],
          "name": "stderr"
        }
      ]
    },
    {
      "cell_type": "code",
      "metadata": {
        "id": "vcHNGsE3MXCS",
        "colab": {
          "base_uri": "https://localhost:8080/"
        },
        "outputId": "895625f6-048c-4882-eb1e-388c34d321db"
      },
      "source": [
        "#set up train and test\n",
        "\n",
        "X=gangli.Citation.astype('float32')\n",
        "train, test = X[0:15], X[15:-1]\n",
        "\n",
        "#fit model\n",
        "model = ARIMA(train, order=(1,1,1))\n",
        "model_fit = model.fit()\n",
        "\n"
      ],
      "execution_count": 5,
      "outputs": [
        {
          "output_type": "stream",
          "text": [
            "/usr/local/lib/python3.7/dist-packages/statsmodels/tsa/base/tsa_model.py:162: ValueWarning: No frequency information was provided, so inferred frequency AS-JAN will be used.\n",
            "  % freq, ValueWarning)\n",
            "/usr/local/lib/python3.7/dist-packages/statsmodels/tsa/base/tsa_model.py:162: ValueWarning: No frequency information was provided, so inferred frequency AS-JAN will be used.\n",
            "  % freq, ValueWarning)\n",
            "/usr/local/lib/python3.7/dist-packages/statsmodels/tsa/base/tsa_model.py:162: ValueWarning: No frequency information was provided, so inferred frequency AS-JAN will be used.\n",
            "  % freq, ValueWarning)\n",
            "/usr/local/lib/python3.7/dist-packages/statsmodels/tsa/statespace/sarimax.py:963: UserWarning: Non-stationary starting autoregressive parameters found. Using zeros as starting parameters.\n",
            "  warn('Non-stationary starting autoregressive parameters'\n"
          ],
          "name": "stderr"
        }
      ]
    },
    {
      "cell_type": "code",
      "metadata": {
        "colab": {
          "base_uri": "https://localhost:8080/"
        },
        "id": "c9j7SFChGh81",
        "outputId": "b0408739-6be4-4688-be77-6cfd8c7f219c"
      },
      "source": [
        "train"
      ],
      "execution_count": 6,
      "outputs": [
        {
          "output_type": "execute_result",
          "data": {
            "text/plain": [
              "year\n",
              "2003-01-01     15.0\n",
              "2004-01-01     34.0\n",
              "2005-01-01     17.0\n",
              "2006-01-01     11.0\n",
              "2007-01-01     32.0\n",
              "2008-01-01     41.0\n",
              "2009-01-01     57.0\n",
              "2010-01-01     68.0\n",
              "2011-01-01    105.0\n",
              "2012-01-01    130.0\n",
              "2013-01-01    171.0\n",
              "2014-01-01    250.0\n",
              "2015-01-01    288.0\n",
              "2016-01-01    339.0\n",
              "2017-01-01    382.0\n",
              "Name: Citation, dtype: float32"
            ]
          },
          "metadata": {
            "tags": []
          },
          "execution_count": 6
        }
      ]
    },
    {
      "cell_type": "code",
      "metadata": {
        "colab": {
          "base_uri": "https://localhost:8080/"
        },
        "id": "Oj-m4wRXJ6XN",
        "outputId": "0afb45e6-410e-40c5-bec1-d270764e2ba0"
      },
      "source": [
        "test"
      ],
      "execution_count": 7,
      "outputs": [
        {
          "output_type": "execute_result",
          "data": {
            "text/plain": [
              "year\n",
              "2018-01-01    443.0\n",
              "2019-01-01    580.0\n",
              "2020-01-01    835.0\n",
              "Name: Citation, dtype: float32"
            ]
          },
          "metadata": {
            "tags": []
          },
          "execution_count": 7
        }
      ]
    },
    {
      "cell_type": "code",
      "metadata": {
        "colab": {
          "base_uri": "https://localhost:8080/"
        },
        "id": "VSAo806DQMzW",
        "outputId": "9e575d2d-64ea-46d6-8ac8-76c024be7d05"
      },
      "source": [
        "#6.1 Train Arima Model\n",
        "#build model\n",
        "warnings.filterwarnings(\"ignore\")\n",
        "\n",
        "model = ARIMA(train, order=(1,1,1))\n",
        "model_fit = model.fit()\n",
        "\n",
        "#6.2 Predicting the citation and Calculate the RMSE\n",
        "#predictions=[]\n",
        "\n",
        "result = model_fit.get_prediction(start=15,end=17)\n",
        "predictions = result.predicted_mean\n",
        "ci = result.conf_int(0.05)\n",
        "#predictions.append(yhat)\n",
        "print('predictions:')\n",
        "print(predictions)\n",
        "\n",
        "# RMSE\n",
        "print(\"*****************************\")\n",
        "rmse = sqrt(mean_squared_error(test, predictions))\n",
        "print('Test RMSE: %.3f' % rmse)\n",
        "\n"
      ],
      "execution_count": 39,
      "outputs": [
        {
          "output_type": "stream",
          "text": [
            "predictions:\n",
            "2018-01-01    423.343787\n",
            "2019-01-01    462.486013\n",
            "2020-01-01    499.543911\n",
            "Freq: AS-JAN, dtype: float64\n",
            "*****************************\n",
            "Test RMSE: 205.529\n"
          ],
          "name": "stdout"
        }
      ]
    },
    {
      "cell_type": "code",
      "metadata": {
        "colab": {
          "base_uri": "https://localhost:8080/"
        },
        "id": "RdAb_ZiIJv3Y",
        "outputId": "f786dc4c-470f-4e20-ef32-464ad10e2068"
      },
      "source": [
        "print(model_fit.summary())"
      ],
      "execution_count": 14,
      "outputs": [
        {
          "output_type": "stream",
          "text": [
            "                               SARIMAX Results                                \n",
            "==============================================================================\n",
            "Dep. Variable:               Citation   No. Observations:                   15\n",
            "Model:                 ARIMA(1, 1, 1)   Log Likelihood                 -62.239\n",
            "Date:                Wed, 28 Apr 2021   AIC                            130.478\n",
            "Time:                        11:28:57   BIC                            132.395\n",
            "Sample:                    01-01-2003   HQIC                           130.301\n",
            "                         - 01-01-2017                                         \n",
            "Covariance Type:                  opg                                         \n",
            "==============================================================================\n",
            "                 coef    std err          z      P>|z|      [0.025      0.975]\n",
            "------------------------------------------------------------------------------\n",
            "ar.L1          0.9467      0.253      3.742      0.000       0.451       1.443\n",
            "ma.L1         -0.4644      0.678     -0.685      0.493      -1.793       0.864\n",
            "sigma2       386.4944    159.184      2.428      0.015      74.499     698.490\n",
            "===================================================================================\n",
            "Ljung-Box (Q):                       11.73   Jarque-Bera (JB):                 0.27\n",
            "Prob(Q):                              0.55   Prob(JB):                         0.87\n",
            "Heteroskedasticity (H):               1.79   Skew:                             0.27\n",
            "Prob(H) (two-sided):                  0.54   Kurtosis:                         3.42\n",
            "===================================================================================\n",
            "\n",
            "Warnings:\n",
            "[1] Covariance matrix calculated using the outer product of gradients (complex-step).\n"
          ],
          "name": "stdout"
        }
      ]
    },
    {
      "cell_type": "code",
      "metadata": {
        "colab": {
          "base_uri": "https://localhost:8080/",
          "height": 317
        },
        "id": "gCOfWLHAP7G1",
        "outputId": "d40b8dbd-89f0-47c5-eef0-175276c83d13"
      },
      "source": [
        "## 6.3 Visualization for comparison\n",
        "# Re-arrange the datafram\n",
        "\n",
        "df= pd.concat([X[10:16],test,predictions,ci], axis=1)\n",
        "df.columns=['training', 'tesint','predictions','lower','upper']\n",
        "df"
      ],
      "execution_count": 85,
      "outputs": [
        {
          "output_type": "execute_result",
          "data": {
            "text/html": [
              "<div>\n",
              "<style scoped>\n",
              "    .dataframe tbody tr th:only-of-type {\n",
              "        vertical-align: middle;\n",
              "    }\n",
              "\n",
              "    .dataframe tbody tr th {\n",
              "        vertical-align: top;\n",
              "    }\n",
              "\n",
              "    .dataframe thead th {\n",
              "        text-align: right;\n",
              "    }\n",
              "</style>\n",
              "<table border=\"1\" class=\"dataframe\">\n",
              "  <thead>\n",
              "    <tr style=\"text-align: right;\">\n",
              "      <th></th>\n",
              "      <th>training</th>\n",
              "      <th>tesint</th>\n",
              "      <th>predictions</th>\n",
              "      <th>lower</th>\n",
              "      <th>upper</th>\n",
              "    </tr>\n",
              "    <tr>\n",
              "      <th>year</th>\n",
              "      <th></th>\n",
              "      <th></th>\n",
              "      <th></th>\n",
              "      <th></th>\n",
              "      <th></th>\n",
              "    </tr>\n",
              "  </thead>\n",
              "  <tbody>\n",
              "    <tr>\n",
              "      <th>2013-01-01</th>\n",
              "      <td>171.0</td>\n",
              "      <td>NaN</td>\n",
              "      <td>NaN</td>\n",
              "      <td>NaN</td>\n",
              "      <td>NaN</td>\n",
              "    </tr>\n",
              "    <tr>\n",
              "      <th>2014-01-01</th>\n",
              "      <td>250.0</td>\n",
              "      <td>NaN</td>\n",
              "      <td>NaN</td>\n",
              "      <td>NaN</td>\n",
              "      <td>NaN</td>\n",
              "    </tr>\n",
              "    <tr>\n",
              "      <th>2015-01-01</th>\n",
              "      <td>288.0</td>\n",
              "      <td>NaN</td>\n",
              "      <td>NaN</td>\n",
              "      <td>NaN</td>\n",
              "      <td>NaN</td>\n",
              "    </tr>\n",
              "    <tr>\n",
              "      <th>2016-01-01</th>\n",
              "      <td>339.0</td>\n",
              "      <td>NaN</td>\n",
              "      <td>NaN</td>\n",
              "      <td>NaN</td>\n",
              "      <td>NaN</td>\n",
              "    </tr>\n",
              "    <tr>\n",
              "      <th>2017-01-01</th>\n",
              "      <td>382.0</td>\n",
              "      <td>NaN</td>\n",
              "      <td>NaN</td>\n",
              "      <td>NaN</td>\n",
              "      <td>NaN</td>\n",
              "    </tr>\n",
              "    <tr>\n",
              "      <th>2018-01-01</th>\n",
              "      <td>443.0</td>\n",
              "      <td>443.0</td>\n",
              "      <td>423.343787</td>\n",
              "      <td>384.811950</td>\n",
              "      <td>461.875625</td>\n",
              "    </tr>\n",
              "    <tr>\n",
              "      <th>2019-01-01</th>\n",
              "      <td>NaN</td>\n",
              "      <td>580.0</td>\n",
              "      <td>462.486013</td>\n",
              "      <td>393.586034</td>\n",
              "      <td>531.385993</td>\n",
              "    </tr>\n",
              "    <tr>\n",
              "      <th>2020-01-01</th>\n",
              "      <td>NaN</td>\n",
              "      <td>835.0</td>\n",
              "      <td>499.543911</td>\n",
              "      <td>397.909496</td>\n",
              "      <td>601.178327</td>\n",
              "    </tr>\n",
              "  </tbody>\n",
              "</table>\n",
              "</div>"
            ],
            "text/plain": [
              "            training  tesint  predictions       lower       upper\n",
              "year                                                             \n",
              "2013-01-01     171.0     NaN          NaN         NaN         NaN\n",
              "2014-01-01     250.0     NaN          NaN         NaN         NaN\n",
              "2015-01-01     288.0     NaN          NaN         NaN         NaN\n",
              "2016-01-01     339.0     NaN          NaN         NaN         NaN\n",
              "2017-01-01     382.0     NaN          NaN         NaN         NaN\n",
              "2018-01-01     443.0   443.0   423.343787  384.811950  461.875625\n",
              "2019-01-01       NaN   580.0   462.486013  393.586034  531.385993\n",
              "2020-01-01       NaN   835.0   499.543911  397.909496  601.178327"
            ]
          },
          "metadata": {
            "tags": []
          },
          "execution_count": 85
        }
      ]
    },
    {
      "cell_type": "code",
      "metadata": {
        "colab": {
          "base_uri": "https://localhost:8080/",
          "height": 281
        },
        "id": "1Bt9F3P3bEkj",
        "outputId": "df9c97f2-438f-4acb-9c87-1ed1392104d2"
      },
      "source": [
        "#plotting\n",
        "pyplot.title('Testing on 2018 -2020 Predictions')\n",
        "pyplot.plot(df['training'],label='training')\n",
        "pyplot.plot(df['tesint'],label='testing')\n",
        "pyplot.plot(df['predictions'], color='red',label='predictions')\n",
        "pyplot.fill_between(df.index, df['lower'], df['upper'], alpha=0.1, color='b', label=\"95% CI\")\n",
        "pyplot.legend()\n",
        "pyplot.show()\n",
        "\n",
        "\n"
      ],
      "execution_count": 112,
      "outputs": [
        {
          "output_type": "display_data",
          "data": {
            "image/png": "[encoded data removed]",
            "text/plain": [
              "<Figure size 432x288 with 1 Axes>"
            ]
          },
          "metadata": {
            "tags": [],
            "needs_background": "light"
          }
        }
      ]
    },
    {
      "cell_type": "code",
      "metadata": {
        "colab": {
          "base_uri": "https://localhost:8080/"
        },
        "id": "mCaP-EUuS_ZZ",
        "outputId": "885e43fa-8262-4189-a335-192e8b4809c4"
      },
      "source": [
        "\n",
        "#7.1 Grid Search\n",
        "Parameter=[]\n",
        "RSME = []\n",
        "\n",
        "\n",
        "history = [x for x in train]\n",
        "predictions = list()\n",
        "\n",
        "p=[1,2]\n",
        "q=[1,2]\n",
        "d=[1,2]\n",
        "\n",
        "warnings.filterwarnings(\"ignore\")\n",
        "\n",
        "for i1 in p:\n",
        "  for i2 in q:\n",
        "    for i3 in d:\n",
        "      for t in range(len(test)):\n",
        "\t      model = ARIMA(history, order=(i1,i3,i2))\n",
        "\t      model_fit = model.fit()\n",
        "\t      output = model_fit.forecast()\n",
        "\t      yhat = output[0]\n",
        "\t      predictions.append(yhat)\n",
        "\t      obs = test[t]\n",
        "\t      history.append(obs)\n",
        "\t      print('predicted=%f, expected=%f' % (yhat, obs))  \n",
        "      rmse = sqrt(mean_squared_error(test, predictions))\n",
        "      parameter=[i1,i3,i2]\n",
        "      history = [x for x in train]\n",
        "      predictions = list()  \n",
        "      RSME.append(rmse)\n",
        "      Parameter.append(parameter)\n",
        "      print('Test RMSE: %.3f' % rmse,i1,i3,i2)   \n",
        " \n",
        "dict2= {'RSME':RSME, 'Parameter(p,d,q)':Parameter}\n",
        "research=pd.DataFrame(dict2)\n",
        "research.to_csv(\"Reserch_result.csv\",index = False, header = True)"
      ],
      "execution_count": 113,
      "outputs": [
        {
          "output_type": "stream",
          "text": [
            "predicted=423.343787, expected=443.000000\n",
            "predicted=492.818333, expected=580.000000\n",
            "predicted=679.429953, expected=835.000000\n",
            "Test RMSE: 103.584 1 1 1\n",
            "predicted=428.820231, expected=443.000000\n",
            "predicted=494.654158, expected=580.000000\n",
            "predicted=723.016565, expected=835.000000\n",
            "Test RMSE: 81.701 1 2 1\n",
            "predicted=423.016599, expected=443.000000\n",
            "predicted=486.447327, expected=580.000000\n",
            "predicted=687.217009, expected=835.000000\n",
            "Test RMSE: 101.639 1 1 2\n",
            "predicted=436.893711, expected=443.000000\n",
            "predicted=496.561644, expected=580.000000\n",
            "predicted=696.726504, expected=835.000000\n",
            "Test RMSE: 93.307 1 2 2\n",
            "predicted=424.046092, expected=443.000000\n",
            "predicted=490.838552, expected=580.000000\n",
            "predicted=711.296628, expected=835.000000\n",
            "Test RMSE: 88.716 2 1 1\n",
            "predicted=413.345304, expected=443.000000\n",
            "predicted=495.051160, expected=580.000000\n",
            "predicted=680.670438, expected=835.000000\n",
            "Test RMSE: 103.140 2 2 1\n",
            "predicted=416.348082, expected=443.000000\n",
            "predicted=488.872405, expected=580.000000\n",
            "predicted=689.599936, expected=835.000000\n",
            "Test RMSE: 100.259 2 1 2\n",
            "predicted=417.124499, expected=443.000000\n",
            "predicted=497.654807, expected=580.000000\n",
            "predicted=688.306367, expected=835.000000\n",
            "Test RMSE: 98.267 2 2 2\n"
          ],
          "name": "stdout"
        }
      ]
    },
    {
      "cell_type": "code",
      "metadata": {
        "colab": {
          "base_uri": "https://localhost:8080/"
        },
        "id": "AGFLzWtZfbxX",
        "outputId": "95d3b6bc-d95b-41e9-a620-8937c3cb6cdc"
      },
      "source": [
        "#7.2 choose best parameter\n",
        "\n",
        "research= research.sort_values(by= 'RSME')\n",
        "print(\"the best parameter is :\", research.iloc[0][1])"
      ],
      "execution_count": 114,
      "outputs": [
        {
          "output_type": "stream",
          "text": [
            "the best parameter is : [1, 2, 1]\n"
          ],
          "name": "stdout"
        }
      ]
    },
    {
      "cell_type": "code",
      "metadata": {
        "colab": {
          "base_uri": "https://localhost:8080/"
        },
        "id": "GphXmt_Wmq7q",
        "outputId": "a31f277b-31e0-46f0-d084-a94d81c98995"
      },
      "source": [
        "## predict 2021 & 2022\n",
        "\n",
        "model_7=ARIMA(train_7, order=(1,2,1))\n",
        "model_fit_7=model.fit()\n",
        "result=model_fit_7.get_forecast(steps=2)\n",
        "forecast = result.predicted_mean\n",
        "ci = result.conf_int(0.05)\n",
        "\n",
        "\n",
        "print(\"prediction citation for 2021 is:\", int(forecast[0]))\n",
        "print(\"prediction citation for 2022 is:\", int(forecast[1]))"
      ],
      "execution_count": 149,
      "outputs": [
        {
          "output_type": "stream",
          "text": [
            "prediction citation for 2021 is: 688\n",
            "prediction citation for 2022 is: 808\n"
          ],
          "name": "stdout"
        }
      ]
    },
    {
      "cell_type": "code",
      "metadata": {
        "colab": {
          "base_uri": "https://localhost:8080/"
        },
        "id": "7jSKCvGDs4K2",
        "outputId": "a4ae6a24-c3cc-44a2-a10a-cf7310e54674"
      },
      "source": [
        ""
      ],
      "execution_count": 151,
      "outputs": [
        {
          "output_type": "execute_result",
          "data": {
            "text/plain": [
              "array([688.30636694, 808.30746593])"
            ]
          },
          "metadata": {
            "tags": []
          },
          "execution_count": 151
        }
      ]
    },
    {
      "cell_type": "code",
      "metadata": {
        "colab": {
          "base_uri": "https://localhost:8080/",
          "height": 347
        },
        "id": "OIPJeBb3qHpo",
        "outputId": "6323ed29-df74-4fae-eab4-49904c93dff6"
      },
      "source": [
        "year= [pd.to_datetime(\"2021-01-01\"), pd.to_datetime('2022-01-01')]\n",
        "\n",
        "df2122 = pd.DataFrame({'prediction': forecast,'ci_lower':ci[:,0], 'ci_upper':ci[:,1]}, index=year)\n",
        "\n",
        "df_7 = pd.concat([train_7[10:],df2122],axis=1)\n",
        "\n",
        "df_7"
      ],
      "execution_count": 182,
      "outputs": [
        {
          "output_type": "execute_result",
          "data": {
            "text/html": [
              "<div>\n",
              "<style scoped>\n",
              "    .dataframe tbody tr th:only-of-type {\n",
              "        vertical-align: middle;\n",
              "    }\n",
              "\n",
              "    .dataframe tbody tr th {\n",
              "        vertical-align: top;\n",
              "    }\n",
              "\n",
              "    .dataframe thead th {\n",
              "        text-align: right;\n",
              "    }\n",
              "</style>\n",
              "<table border=\"1\" class=\"dataframe\">\n",
              "  <thead>\n",
              "    <tr style=\"text-align: right;\">\n",
              "      <th></th>\n",
              "      <th>Citation</th>\n",
              "      <th>prediction</th>\n",
              "      <th>ci_lower</th>\n",
              "      <th>ci_upper</th>\n",
              "    </tr>\n",
              "  </thead>\n",
              "  <tbody>\n",
              "    <tr>\n",
              "      <th>2013-01-01</th>\n",
              "      <td>171.0</td>\n",
              "      <td>NaN</td>\n",
              "      <td>NaN</td>\n",
              "      <td>NaN</td>\n",
              "    </tr>\n",
              "    <tr>\n",
              "      <th>2014-01-01</th>\n",
              "      <td>250.0</td>\n",
              "      <td>NaN</td>\n",
              "      <td>NaN</td>\n",
              "      <td>NaN</td>\n",
              "    </tr>\n",
              "    <tr>\n",
              "      <th>2015-01-01</th>\n",
              "      <td>288.0</td>\n",
              "      <td>NaN</td>\n",
              "      <td>NaN</td>\n",
              "      <td>NaN</td>\n",
              "    </tr>\n",
              "    <tr>\n",
              "      <th>2016-01-01</th>\n",
              "      <td>339.0</td>\n",
              "      <td>NaN</td>\n",
              "      <td>NaN</td>\n",
              "      <td>NaN</td>\n",
              "    </tr>\n",
              "    <tr>\n",
              "      <th>2017-01-01</th>\n",
              "      <td>382.0</td>\n",
              "      <td>NaN</td>\n",
              "      <td>NaN</td>\n",
              "      <td>NaN</td>\n",
              "    </tr>\n",
              "    <tr>\n",
              "      <th>2018-01-01</th>\n",
              "      <td>443.0</td>\n",
              "      <td>NaN</td>\n",
              "      <td>NaN</td>\n",
              "      <td>NaN</td>\n",
              "    </tr>\n",
              "    <tr>\n",
              "      <th>2019-01-01</th>\n",
              "      <td>580.0</td>\n",
              "      <td>NaN</td>\n",
              "      <td>NaN</td>\n",
              "      <td>NaN</td>\n",
              "    </tr>\n",
              "    <tr>\n",
              "      <th>2020-01-01</th>\n",
              "      <td>835.0</td>\n",
              "      <td>NaN</td>\n",
              "      <td>NaN</td>\n",
              "      <td>NaN</td>\n",
              "    </tr>\n",
              "    <tr>\n",
              "      <th>2021-01-01</th>\n",
              "      <td>NaN</td>\n",
              "      <td>688.306367</td>\n",
              "      <td>650.602423</td>\n",
              "      <td>726.010311</td>\n",
              "    </tr>\n",
              "    <tr>\n",
              "      <th>2022-01-01</th>\n",
              "      <td>NaN</td>\n",
              "      <td>808.307466</td>\n",
              "      <td>714.358260</td>\n",
              "      <td>902.256671</td>\n",
              "    </tr>\n",
              "  </tbody>\n",
              "</table>\n",
              "</div>"
            ],
            "text/plain": [
              "            Citation  prediction    ci_lower    ci_upper\n",
              "2013-01-01     171.0         NaN         NaN         NaN\n",
              "2014-01-01     250.0         NaN         NaN         NaN\n",
              "2015-01-01     288.0         NaN         NaN         NaN\n",
              "2016-01-01     339.0         NaN         NaN         NaN\n",
              "2017-01-01     382.0         NaN         NaN         NaN\n",
              "2018-01-01     443.0         NaN         NaN         NaN\n",
              "2019-01-01     580.0         NaN         NaN         NaN\n",
              "2020-01-01     835.0         NaN         NaN         NaN\n",
              "2021-01-01       NaN  688.306367  650.602423  726.010311\n",
              "2022-01-01       NaN  808.307466  714.358260  902.256671"
            ]
          },
          "metadata": {
            "tags": []
          },
          "execution_count": 182
        }
      ]
    },
    {
      "cell_type": "markdown",
      "metadata": {
        "id": "4hEv8a7bmqyM"
      },
      "source": [
        ""
      ]
    },
    {
      "cell_type": "code",
      "metadata": {
        "colab": {
          "base_uri": "https://localhost:8080/",
          "height": 281
        },
        "id": "KLCYfFNep52P",
        "outputId": "888525ab-d2cb-43b2-8910-263ea14473bf"
      },
      "source": [
        "#Plotting\n",
        "pyplot.title('Citation Prediction for 2021 &2022')\n",
        "pyplot.plot(df_7['Citation'],label='training')\n",
        "pyplot.plot(df_7['prediction'], color='red',label='predictions')\n",
        "pyplot.fill_between(df_7.index, df_7['ci_lower'], df_7['ci_upper'], alpha=0.1, color='b', label=\"95% CI\")\n",
        "pyplot.legend()\n",
        "pyplot.show()\n"
      ],
      "execution_count": 183,
      "outputs": [
        {
          "output_type": "display_data",
          "data": {
            "image/png": "[encoded data removed]",
            "text/plain": [
              "<Figure size 432x288 with 1 Axes>"
            ]
          },
          "metadata": {
            "tags": [],
            "needs_background": "light"
          }
        }
      ]
    }
  ]
}